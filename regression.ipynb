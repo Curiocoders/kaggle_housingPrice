{
 "cells": [
  {
   "cell_type": "code",
   "execution_count": 2,
   "id": "2adc4f26-c437-48ba-b7ef-81e89f5e66c6",
   "metadata": {
    "ExecuteTime": {
     "end_time": "2023-06-27T23:33:54.761201Z",
     "start_time": "2023-06-27T23:33:54.752768Z"
    }
   },
   "outputs": [],
   "source": [
    "# importing libraries:\n",
    "import numpy as np\n",
    "import pandas as pd\n",
    "import matplotlib.pyplot as plt\n",
    "import seaborn as sns"
   ]
  },
  {
   "cell_type": "code",
   "execution_count": 3,
   "id": "9979502b-4bec-4207-bf47-f7640a07aa08",
   "metadata": {
    "ExecuteTime": {
     "end_time": "2023-06-27T23:33:55.658018Z",
     "start_time": "2023-06-27T23:33:55.638342Z"
    }
   },
   "outputs": [],
   "source": [
    "housing_data = pd.read_csv(\"./dataset/train.csv\") # reading the dataset"
   ]
  },
  {
   "cell_type": "code",
   "execution_count": 4,
   "id": "11673258-7549-4207-8e9f-37224345917d",
   "metadata": {
    "ExecuteTime": {
     "end_time": "2023-06-27T23:33:56.270303Z",
     "start_time": "2023-06-27T23:33:56.261199Z"
    }
   },
   "outputs": [
    {
     "data": {
      "text/plain": "   Id  MSSubClass MSZoning  LotFrontage  LotArea Street Alley LotShape  \\\n0   1          60       RL         65.0     8450   Pave   NaN      Reg   \n1   2          20       RL         80.0     9600   Pave   NaN      Reg   \n2   3          60       RL         68.0    11250   Pave   NaN      IR1   \n3   4          70       RL         60.0     9550   Pave   NaN      IR1   \n4   5          60       RL         84.0    14260   Pave   NaN      IR1   \n\n  LandContour Utilities  ... PoolArea PoolQC Fence MiscFeature MiscVal MoSold  \\\n0         Lvl    AllPub  ...        0    NaN   NaN         NaN       0      2   \n1         Lvl    AllPub  ...        0    NaN   NaN         NaN       0      5   \n2         Lvl    AllPub  ...        0    NaN   NaN         NaN       0      9   \n3         Lvl    AllPub  ...        0    NaN   NaN         NaN       0      2   \n4         Lvl    AllPub  ...        0    NaN   NaN         NaN       0     12   \n\n  YrSold  SaleType  SaleCondition  SalePrice  \n0   2008        WD         Normal     208500  \n1   2007        WD         Normal     181500  \n2   2008        WD         Normal     223500  \n3   2006        WD        Abnorml     140000  \n4   2008        WD         Normal     250000  \n\n[5 rows x 81 columns]",
      "text/html": "<div>\n<style scoped>\n    .dataframe tbody tr th:only-of-type {\n        vertical-align: middle;\n    }\n\n    .dataframe tbody tr th {\n        vertical-align: top;\n    }\n\n    .dataframe thead th {\n        text-align: right;\n    }\n</style>\n<table border=\"1\" class=\"dataframe\">\n  <thead>\n    <tr style=\"text-align: right;\">\n      <th></th>\n      <th>Id</th>\n      <th>MSSubClass</th>\n      <th>MSZoning</th>\n      <th>LotFrontage</th>\n      <th>LotArea</th>\n      <th>Street</th>\n      <th>Alley</th>\n      <th>LotShape</th>\n      <th>LandContour</th>\n      <th>Utilities</th>\n      <th>...</th>\n      <th>PoolArea</th>\n      <th>PoolQC</th>\n      <th>Fence</th>\n      <th>MiscFeature</th>\n      <th>MiscVal</th>\n      <th>MoSold</th>\n      <th>YrSold</th>\n      <th>SaleType</th>\n      <th>SaleCondition</th>\n      <th>SalePrice</th>\n    </tr>\n  </thead>\n  <tbody>\n    <tr>\n      <th>0</th>\n      <td>1</td>\n      <td>60</td>\n      <td>RL</td>\n      <td>65.0</td>\n      <td>8450</td>\n      <td>Pave</td>\n      <td>NaN</td>\n      <td>Reg</td>\n      <td>Lvl</td>\n      <td>AllPub</td>\n      <td>...</td>\n      <td>0</td>\n      <td>NaN</td>\n      <td>NaN</td>\n      <td>NaN</td>\n      <td>0</td>\n      <td>2</td>\n      <td>2008</td>\n      <td>WD</td>\n      <td>Normal</td>\n      <td>208500</td>\n    </tr>\n    <tr>\n      <th>1</th>\n      <td>2</td>\n      <td>20</td>\n      <td>RL</td>\n      <td>80.0</td>\n      <td>9600</td>\n      <td>Pave</td>\n      <td>NaN</td>\n      <td>Reg</td>\n      <td>Lvl</td>\n      <td>AllPub</td>\n      <td>...</td>\n      <td>0</td>\n      <td>NaN</td>\n      <td>NaN</td>\n      <td>NaN</td>\n      <td>0</td>\n      <td>5</td>\n      <td>2007</td>\n      <td>WD</td>\n      <td>Normal</td>\n      <td>181500</td>\n    </tr>\n    <tr>\n      <th>2</th>\n      <td>3</td>\n      <td>60</td>\n      <td>RL</td>\n      <td>68.0</td>\n      <td>11250</td>\n      <td>Pave</td>\n      <td>NaN</td>\n      <td>IR1</td>\n      <td>Lvl</td>\n      <td>AllPub</td>\n      <td>...</td>\n      <td>0</td>\n      <td>NaN</td>\n      <td>NaN</td>\n      <td>NaN</td>\n      <td>0</td>\n      <td>9</td>\n      <td>2008</td>\n      <td>WD</td>\n      <td>Normal</td>\n      <td>223500</td>\n    </tr>\n    <tr>\n      <th>3</th>\n      <td>4</td>\n      <td>70</td>\n      <td>RL</td>\n      <td>60.0</td>\n      <td>9550</td>\n      <td>Pave</td>\n      <td>NaN</td>\n      <td>IR1</td>\n      <td>Lvl</td>\n      <td>AllPub</td>\n      <td>...</td>\n      <td>0</td>\n      <td>NaN</td>\n      <td>NaN</td>\n      <td>NaN</td>\n      <td>0</td>\n      <td>2</td>\n      <td>2006</td>\n      <td>WD</td>\n      <td>Abnorml</td>\n      <td>140000</td>\n    </tr>\n    <tr>\n      <th>4</th>\n      <td>5</td>\n      <td>60</td>\n      <td>RL</td>\n      <td>84.0</td>\n      <td>14260</td>\n      <td>Pave</td>\n      <td>NaN</td>\n      <td>IR1</td>\n      <td>Lvl</td>\n      <td>AllPub</td>\n      <td>...</td>\n      <td>0</td>\n      <td>NaN</td>\n      <td>NaN</td>\n      <td>NaN</td>\n      <td>0</td>\n      <td>12</td>\n      <td>2008</td>\n      <td>WD</td>\n      <td>Normal</td>\n      <td>250000</td>\n    </tr>\n  </tbody>\n</table>\n<p>5 rows × 81 columns</p>\n</div>"
     },
     "execution_count": 4,
     "metadata": {},
     "output_type": "execute_result"
    }
   ],
   "source": [
    "housing_data.head() # viewing the dataset"
   ]
  },
  {
   "cell_type": "code",
   "execution_count": 5,
   "id": "6b0a4e98-df93-4148-af40-fbb30faf36f7",
   "metadata": {
    "ExecuteTime": {
     "end_time": "2023-06-27T23:33:57.103901Z",
     "start_time": "2023-06-27T23:33:57.063564Z"
    }
   },
   "outputs": [
    {
     "name": "stdout",
     "output_type": "stream",
     "text": [
      "<class 'pandas.core.frame.DataFrame'>\n",
      "RangeIndex: 1460 entries, 0 to 1459\n",
      "Data columns (total 81 columns):\n",
      " #   Column         Non-Null Count  Dtype  \n",
      "---  ------         --------------  -----  \n",
      " 0   Id             1460 non-null   int64  \n",
      " 1   MSSubClass     1460 non-null   int64  \n",
      " 2   MSZoning       1460 non-null   object \n",
      " 3   LotFrontage    1201 non-null   float64\n",
      " 4   LotArea        1460 non-null   int64  \n",
      " 5   Street         1460 non-null   object \n",
      " 6   Alley          91 non-null     object \n",
      " 7   LotShape       1460 non-null   object \n",
      " 8   LandContour    1460 non-null   object \n",
      " 9   Utilities      1460 non-null   object \n",
      " 10  LotConfig      1460 non-null   object \n",
      " 11  LandSlope      1460 non-null   object \n",
      " 12  Neighborhood   1460 non-null   object \n",
      " 13  Condition1     1460 non-null   object \n",
      " 14  Condition2     1460 non-null   object \n",
      " 15  BldgType       1460 non-null   object \n",
      " 16  HouseStyle     1460 non-null   object \n",
      " 17  OverallQual    1460 non-null   int64  \n",
      " 18  OverallCond    1460 non-null   int64  \n",
      " 19  YearBuilt      1460 non-null   int64  \n",
      " 20  YearRemodAdd   1460 non-null   int64  \n",
      " 21  RoofStyle      1460 non-null   object \n",
      " 22  RoofMatl       1460 non-null   object \n",
      " 23  Exterior1st    1460 non-null   object \n",
      " 24  Exterior2nd    1460 non-null   object \n",
      " 25  MasVnrType     588 non-null    object \n",
      " 26  MasVnrArea     1452 non-null   float64\n",
      " 27  ExterQual      1460 non-null   object \n",
      " 28  ExterCond      1460 non-null   object \n",
      " 29  Foundation     1460 non-null   object \n",
      " 30  BsmtQual       1423 non-null   object \n",
      " 31  BsmtCond       1423 non-null   object \n",
      " 32  BsmtExposure   1422 non-null   object \n",
      " 33  BsmtFinType1   1423 non-null   object \n",
      " 34  BsmtFinSF1     1460 non-null   int64  \n",
      " 35  BsmtFinType2   1422 non-null   object \n",
      " 36  BsmtFinSF2     1460 non-null   int64  \n",
      " 37  BsmtUnfSF      1460 non-null   int64  \n",
      " 38  TotalBsmtSF    1460 non-null   int64  \n",
      " 39  Heating        1460 non-null   object \n",
      " 40  HeatingQC      1460 non-null   object \n",
      " 41  CentralAir     1460 non-null   object \n",
      " 42  Electrical     1459 non-null   object \n",
      " 43  1stFlrSF       1460 non-null   int64  \n",
      " 44  2ndFlrSF       1460 non-null   int64  \n",
      " 45  LowQualFinSF   1460 non-null   int64  \n",
      " 46  GrLivArea      1460 non-null   int64  \n",
      " 47  BsmtFullBath   1460 non-null   int64  \n",
      " 48  BsmtHalfBath   1460 non-null   int64  \n",
      " 49  FullBath       1460 non-null   int64  \n",
      " 50  HalfBath       1460 non-null   int64  \n",
      " 51  BedroomAbvGr   1460 non-null   int64  \n",
      " 52  KitchenAbvGr   1460 non-null   int64  \n",
      " 53  KitchenQual    1460 non-null   object \n",
      " 54  TotRmsAbvGrd   1460 non-null   int64  \n",
      " 55  Functional     1460 non-null   object \n",
      " 56  Fireplaces     1460 non-null   int64  \n",
      " 57  FireplaceQu    770 non-null    object \n",
      " 58  GarageType     1379 non-null   object \n",
      " 59  GarageYrBlt    1379 non-null   float64\n",
      " 60  GarageFinish   1379 non-null   object \n",
      " 61  GarageCars     1460 non-null   int64  \n",
      " 62  GarageArea     1460 non-null   int64  \n",
      " 63  GarageQual     1379 non-null   object \n",
      " 64  GarageCond     1379 non-null   object \n",
      " 65  PavedDrive     1460 non-null   object \n",
      " 66  WoodDeckSF     1460 non-null   int64  \n",
      " 67  OpenPorchSF    1460 non-null   int64  \n",
      " 68  EnclosedPorch  1460 non-null   int64  \n",
      " 69  3SsnPorch      1460 non-null   int64  \n",
      " 70  ScreenPorch    1460 non-null   int64  \n",
      " 71  PoolArea       1460 non-null   int64  \n",
      " 72  PoolQC         7 non-null      object \n",
      " 73  Fence          281 non-null    object \n",
      " 74  MiscFeature    54 non-null     object \n",
      " 75  MiscVal        1460 non-null   int64  \n",
      " 76  MoSold         1460 non-null   int64  \n",
      " 77  YrSold         1460 non-null   int64  \n",
      " 78  SaleType       1460 non-null   object \n",
      " 79  SaleCondition  1460 non-null   object \n",
      " 80  SalePrice      1460 non-null   int64  \n",
      "dtypes: float64(3), int64(35), object(43)\n",
      "memory usage: 924.0+ KB\n"
     ]
    }
   ],
   "source": [
    "housing_data.info()"
   ]
  },
  {
   "cell_type": "markdown",
   "source": [
    "#### Exploratory Data Analysis"
   ],
   "metadata": {
    "collapsed": false
   }
  },
  {
   "cell_type": "code",
   "execution_count": 6,
   "id": "6306870d-deb7-40e9-b9f7-5ea6c0bed37c",
   "metadata": {
    "ExecuteTime": {
     "end_time": "2023-06-27T23:33:57.843412Z",
     "start_time": "2023-06-27T23:33:57.837420Z"
    }
   },
   "outputs": [],
   "source": [
    "# finding the categorical value\n",
    "numerical_data = housing_data.select_dtypes(include=[np.number])\n",
    "categorical_data = housing_data.select_dtypes(include=['object'])"
   ]
  },
  {
   "cell_type": "code",
   "execution_count": 7,
   "outputs": [
    {
     "data": {
      "text/plain": "  MSZoning Street Alley LotShape LandContour Utilities LotConfig LandSlope  \\\n0       RL   Pave   NaN      Reg         Lvl    AllPub    Inside       Gtl   \n1       RL   Pave   NaN      Reg         Lvl    AllPub       FR2       Gtl   \n2       RL   Pave   NaN      IR1         Lvl    AllPub    Inside       Gtl   \n3       RL   Pave   NaN      IR1         Lvl    AllPub    Corner       Gtl   \n4       RL   Pave   NaN      IR1         Lvl    AllPub       FR2       Gtl   \n\n  Neighborhood Condition1  ... GarageType GarageFinish GarageQual GarageCond  \\\n0      CollgCr       Norm  ...     Attchd          RFn         TA         TA   \n1      Veenker      Feedr  ...     Attchd          RFn         TA         TA   \n2      CollgCr       Norm  ...     Attchd          RFn         TA         TA   \n3      Crawfor       Norm  ...     Detchd          Unf         TA         TA   \n4      NoRidge       Norm  ...     Attchd          RFn         TA         TA   \n\n  PavedDrive PoolQC Fence MiscFeature SaleType SaleCondition  \n0          Y    NaN   NaN         NaN       WD        Normal  \n1          Y    NaN   NaN         NaN       WD        Normal  \n2          Y    NaN   NaN         NaN       WD        Normal  \n3          Y    NaN   NaN         NaN       WD       Abnorml  \n4          Y    NaN   NaN         NaN       WD        Normal  \n\n[5 rows x 43 columns]",
      "text/html": "<div>\n<style scoped>\n    .dataframe tbody tr th:only-of-type {\n        vertical-align: middle;\n    }\n\n    .dataframe tbody tr th {\n        vertical-align: top;\n    }\n\n    .dataframe thead th {\n        text-align: right;\n    }\n</style>\n<table border=\"1\" class=\"dataframe\">\n  <thead>\n    <tr style=\"text-align: right;\">\n      <th></th>\n      <th>MSZoning</th>\n      <th>Street</th>\n      <th>Alley</th>\n      <th>LotShape</th>\n      <th>LandContour</th>\n      <th>Utilities</th>\n      <th>LotConfig</th>\n      <th>LandSlope</th>\n      <th>Neighborhood</th>\n      <th>Condition1</th>\n      <th>...</th>\n      <th>GarageType</th>\n      <th>GarageFinish</th>\n      <th>GarageQual</th>\n      <th>GarageCond</th>\n      <th>PavedDrive</th>\n      <th>PoolQC</th>\n      <th>Fence</th>\n      <th>MiscFeature</th>\n      <th>SaleType</th>\n      <th>SaleCondition</th>\n    </tr>\n  </thead>\n  <tbody>\n    <tr>\n      <th>0</th>\n      <td>RL</td>\n      <td>Pave</td>\n      <td>NaN</td>\n      <td>Reg</td>\n      <td>Lvl</td>\n      <td>AllPub</td>\n      <td>Inside</td>\n      <td>Gtl</td>\n      <td>CollgCr</td>\n      <td>Norm</td>\n      <td>...</td>\n      <td>Attchd</td>\n      <td>RFn</td>\n      <td>TA</td>\n      <td>TA</td>\n      <td>Y</td>\n      <td>NaN</td>\n      <td>NaN</td>\n      <td>NaN</td>\n      <td>WD</td>\n      <td>Normal</td>\n    </tr>\n    <tr>\n      <th>1</th>\n      <td>RL</td>\n      <td>Pave</td>\n      <td>NaN</td>\n      <td>Reg</td>\n      <td>Lvl</td>\n      <td>AllPub</td>\n      <td>FR2</td>\n      <td>Gtl</td>\n      <td>Veenker</td>\n      <td>Feedr</td>\n      <td>...</td>\n      <td>Attchd</td>\n      <td>RFn</td>\n      <td>TA</td>\n      <td>TA</td>\n      <td>Y</td>\n      <td>NaN</td>\n      <td>NaN</td>\n      <td>NaN</td>\n      <td>WD</td>\n      <td>Normal</td>\n    </tr>\n    <tr>\n      <th>2</th>\n      <td>RL</td>\n      <td>Pave</td>\n      <td>NaN</td>\n      <td>IR1</td>\n      <td>Lvl</td>\n      <td>AllPub</td>\n      <td>Inside</td>\n      <td>Gtl</td>\n      <td>CollgCr</td>\n      <td>Norm</td>\n      <td>...</td>\n      <td>Attchd</td>\n      <td>RFn</td>\n      <td>TA</td>\n      <td>TA</td>\n      <td>Y</td>\n      <td>NaN</td>\n      <td>NaN</td>\n      <td>NaN</td>\n      <td>WD</td>\n      <td>Normal</td>\n    </tr>\n    <tr>\n      <th>3</th>\n      <td>RL</td>\n      <td>Pave</td>\n      <td>NaN</td>\n      <td>IR1</td>\n      <td>Lvl</td>\n      <td>AllPub</td>\n      <td>Corner</td>\n      <td>Gtl</td>\n      <td>Crawfor</td>\n      <td>Norm</td>\n      <td>...</td>\n      <td>Detchd</td>\n      <td>Unf</td>\n      <td>TA</td>\n      <td>TA</td>\n      <td>Y</td>\n      <td>NaN</td>\n      <td>NaN</td>\n      <td>NaN</td>\n      <td>WD</td>\n      <td>Abnorml</td>\n    </tr>\n    <tr>\n      <th>4</th>\n      <td>RL</td>\n      <td>Pave</td>\n      <td>NaN</td>\n      <td>IR1</td>\n      <td>Lvl</td>\n      <td>AllPub</td>\n      <td>FR2</td>\n      <td>Gtl</td>\n      <td>NoRidge</td>\n      <td>Norm</td>\n      <td>...</td>\n      <td>Attchd</td>\n      <td>RFn</td>\n      <td>TA</td>\n      <td>TA</td>\n      <td>Y</td>\n      <td>NaN</td>\n      <td>NaN</td>\n      <td>NaN</td>\n      <td>WD</td>\n      <td>Normal</td>\n    </tr>\n  </tbody>\n</table>\n<p>5 rows × 43 columns</p>\n</div>"
     },
     "execution_count": 7,
     "metadata": {},
     "output_type": "execute_result"
    }
   ],
   "source": [
    "categorical_data.head()"
   ],
   "metadata": {
    "collapsed": false,
    "ExecuteTime": {
     "end_time": "2023-06-27T23:33:58.063548Z",
     "start_time": "2023-06-27T23:33:58.060852Z"
    }
   }
  },
  {
   "cell_type": "code",
   "execution_count": 8,
   "outputs": [
    {
     "data": {
      "text/plain": "Index(['Id', 'MSSubClass', 'LotFrontage', 'LotArea', 'OverallQual',\n       'OverallCond', 'YearBuilt', 'YearRemodAdd', 'MasVnrArea', 'BsmtFinSF1',\n       'BsmtFinSF2', 'BsmtUnfSF', 'TotalBsmtSF', '1stFlrSF', '2ndFlrSF',\n       'LowQualFinSF', 'GrLivArea', 'BsmtFullBath', 'BsmtHalfBath', 'FullBath',\n       'HalfBath', 'BedroomAbvGr', 'KitchenAbvGr', 'TotRmsAbvGrd',\n       'Fireplaces', 'GarageYrBlt', 'GarageCars', 'GarageArea', 'WoodDeckSF',\n       'OpenPorchSF', 'EnclosedPorch', '3SsnPorch', 'ScreenPorch', 'PoolArea',\n       'MiscVal', 'MoSold', 'YrSold', 'SalePrice'],\n      dtype='object')"
     },
     "execution_count": 8,
     "metadata": {},
     "output_type": "execute_result"
    }
   ],
   "source": [
    "numerical_data.columns"
   ],
   "metadata": {
    "collapsed": false,
    "ExecuteTime": {
     "end_time": "2023-06-27T23:33:58.210945Z",
     "start_time": "2023-06-27T23:33:58.204846Z"
    }
   }
  },
  {
   "cell_type": "code",
   "execution_count": 9,
   "outputs": [
    {
     "data": {
      "text/plain": "Index(['MSZoning', 'Street', 'Alley', 'LotShape', 'LandContour', 'Utilities',\n       'LotConfig', 'LandSlope', 'Neighborhood', 'Condition1', 'Condition2',\n       'BldgType', 'HouseStyle', 'RoofStyle', 'RoofMatl', 'Exterior1st',\n       'Exterior2nd', 'MasVnrType', 'ExterQual', 'ExterCond', 'Foundation',\n       'BsmtQual', 'BsmtCond', 'BsmtExposure', 'BsmtFinType1', 'BsmtFinType2',\n       'Heating', 'HeatingQC', 'CentralAir', 'Electrical', 'KitchenQual',\n       'Functional', 'FireplaceQu', 'GarageType', 'GarageFinish', 'GarageQual',\n       'GarageCond', 'PavedDrive', 'PoolQC', 'Fence', 'MiscFeature',\n       'SaleType', 'SaleCondition'],\n      dtype='object')"
     },
     "execution_count": 9,
     "metadata": {},
     "output_type": "execute_result"
    }
   ],
   "source": [
    "categorical_data.columns"
   ],
   "metadata": {
    "collapsed": false,
    "ExecuteTime": {
     "end_time": "2023-06-27T23:33:58.321339Z",
     "start_time": "2023-06-27T23:33:58.317242Z"
    }
   }
  },
  {
   "cell_type": "code",
   "execution_count": 10,
   "outputs": [
    {
     "name": "stdout",
     "output_type": "stream",
     "text": [
      "columns : MSZoning has 5 values and they are as follows:\n",
      "MSZoning\n",
      "RL         0.788356\n",
      "RM         0.149315\n",
      "FV         0.044521\n",
      "RH         0.010959\n",
      "C (all)    0.006849\n",
      "Name: proportion, dtype: float64\n",
      "columns : Street has 2 values and they are as follows:\n",
      "Street\n",
      "Pave    0.99589\n",
      "Grvl    0.00411\n",
      "Name: proportion, dtype: float64\n",
      "columns : Alley has 2 values and they are as follows:\n",
      "Alley\n",
      "Grvl    0.549451\n",
      "Pave    0.450549\n",
      "Name: proportion, dtype: float64\n",
      "columns : LotShape has 4 values and they are as follows:\n",
      "LotShape\n",
      "Reg    0.633562\n",
      "IR1    0.331507\n",
      "IR2    0.028082\n",
      "IR3    0.006849\n",
      "Name: proportion, dtype: float64\n",
      "columns : LandContour has 4 values and they are as follows:\n",
      "LandContour\n",
      "Lvl    0.897945\n",
      "Bnk    0.043151\n",
      "HLS    0.034247\n",
      "Low    0.024658\n",
      "Name: proportion, dtype: float64\n",
      "columns : Utilities has 2 values and they are as follows:\n",
      "Utilities\n",
      "AllPub    0.999315\n",
      "NoSeWa    0.000685\n",
      "Name: proportion, dtype: float64\n",
      "columns : LotConfig has 5 values and they are as follows:\n",
      "LotConfig\n",
      "Inside     0.720548\n",
      "Corner     0.180137\n",
      "CulDSac    0.064384\n",
      "FR2        0.032192\n",
      "FR3        0.002740\n",
      "Name: proportion, dtype: float64\n",
      "columns : LandSlope has 3 values and they are as follows:\n",
      "LandSlope\n",
      "Gtl    0.946575\n",
      "Mod    0.044521\n",
      "Sev    0.008904\n",
      "Name: proportion, dtype: float64\n",
      "columns : Neighborhood has 25 values and they are as follows:\n",
      "Neighborhood\n",
      "NAmes      0.154110\n",
      "CollgCr    0.102740\n",
      "OldTown    0.077397\n",
      "Edwards    0.068493\n",
      "Somerst    0.058904\n",
      "Gilbert    0.054110\n",
      "NridgHt    0.052740\n",
      "Sawyer     0.050685\n",
      "NWAmes     0.050000\n",
      "SawyerW    0.040411\n",
      "BrkSide    0.039726\n",
      "Crawfor    0.034932\n",
      "Mitchel    0.033562\n",
      "NoRidge    0.028082\n",
      "Timber     0.026027\n",
      "IDOTRR     0.025342\n",
      "ClearCr    0.019178\n",
      "StoneBr    0.017123\n",
      "SWISU      0.017123\n",
      "MeadowV    0.011644\n",
      "Blmngtn    0.011644\n",
      "BrDale     0.010959\n",
      "Veenker    0.007534\n",
      "NPkVill    0.006164\n",
      "Blueste    0.001370\n",
      "Name: proportion, dtype: float64\n",
      "columns : Condition1 has 9 values and they are as follows:\n",
      "Condition1\n",
      "Norm      0.863014\n",
      "Feedr     0.055479\n",
      "Artery    0.032877\n",
      "RRAn      0.017808\n",
      "PosN      0.013014\n",
      "RRAe      0.007534\n",
      "PosA      0.005479\n",
      "RRNn      0.003425\n",
      "RRNe      0.001370\n",
      "Name: proportion, dtype: float64\n",
      "columns : Condition2 has 8 values and they are as follows:\n",
      "Condition2\n",
      "Norm      0.989726\n",
      "Feedr     0.004110\n",
      "Artery    0.001370\n",
      "RRNn      0.001370\n",
      "PosN      0.001370\n",
      "PosA      0.000685\n",
      "RRAn      0.000685\n",
      "RRAe      0.000685\n",
      "Name: proportion, dtype: float64\n",
      "columns : BldgType has 5 values and they are as follows:\n",
      "BldgType\n",
      "1Fam      0.835616\n",
      "TwnhsE    0.078082\n",
      "Duplex    0.035616\n",
      "Twnhs     0.029452\n",
      "2fmCon    0.021233\n",
      "Name: proportion, dtype: float64\n",
      "columns : HouseStyle has 8 values and they are as follows:\n",
      "HouseStyle\n",
      "1Story    0.497260\n",
      "2Story    0.304795\n",
      "1.5Fin    0.105479\n",
      "SLvl      0.044521\n",
      "SFoyer    0.025342\n",
      "1.5Unf    0.009589\n",
      "2.5Unf    0.007534\n",
      "2.5Fin    0.005479\n",
      "Name: proportion, dtype: float64\n",
      "columns : RoofStyle has 6 values and they are as follows:\n",
      "RoofStyle\n",
      "Gable      0.781507\n",
      "Hip        0.195890\n",
      "Flat       0.008904\n",
      "Gambrel    0.007534\n",
      "Mansard    0.004795\n",
      "Shed       0.001370\n",
      "Name: proportion, dtype: float64\n",
      "columns : RoofMatl has 8 values and they are as follows:\n",
      "RoofMatl\n",
      "CompShg    0.982192\n",
      "Tar&Grv    0.007534\n",
      "WdShngl    0.004110\n",
      "WdShake    0.003425\n",
      "Metal      0.000685\n",
      "Membran    0.000685\n",
      "Roll       0.000685\n",
      "ClyTile    0.000685\n",
      "Name: proportion, dtype: float64\n",
      "columns : Exterior1st has 15 values and they are as follows:\n",
      "Exterior1st\n",
      "VinylSd    0.352740\n",
      "HdBoard    0.152055\n",
      "MetalSd    0.150685\n",
      "Wd Sdng    0.141096\n",
      "Plywood    0.073973\n",
      "CemntBd    0.041781\n",
      "BrkFace    0.034247\n",
      "WdShing    0.017808\n",
      "Stucco     0.017123\n",
      "AsbShng    0.013699\n",
      "BrkComm    0.001370\n",
      "Stone      0.001370\n",
      "AsphShn    0.000685\n",
      "ImStucc    0.000685\n",
      "CBlock     0.000685\n",
      "Name: proportion, dtype: float64\n",
      "columns : Exterior2nd has 16 values and they are as follows:\n",
      "Exterior2nd\n",
      "VinylSd    0.345205\n",
      "MetalSd    0.146575\n",
      "HdBoard    0.141781\n",
      "Wd Sdng    0.134932\n",
      "Plywood    0.097260\n",
      "CmentBd    0.041096\n",
      "Wd Shng    0.026027\n",
      "Stucco     0.017808\n",
      "BrkFace    0.017123\n",
      "AsbShng    0.013699\n",
      "ImStucc    0.006849\n",
      "Brk Cmn    0.004795\n",
      "Stone      0.003425\n",
      "AsphShn    0.002055\n",
      "Other      0.000685\n",
      "CBlock     0.000685\n",
      "Name: proportion, dtype: float64\n",
      "columns : MasVnrType has 3 values and they are as follows:\n",
      "MasVnrType\n",
      "BrkFace    0.756803\n",
      "Stone      0.217687\n",
      "BrkCmn     0.025510\n",
      "Name: proportion, dtype: float64\n",
      "columns : ExterQual has 4 values and they are as follows:\n",
      "ExterQual\n",
      "TA    0.620548\n",
      "Gd    0.334247\n",
      "Ex    0.035616\n",
      "Fa    0.009589\n",
      "Name: proportion, dtype: float64\n",
      "columns : ExterCond has 5 values and they are as follows:\n",
      "ExterCond\n",
      "TA    0.878082\n",
      "Gd    0.100000\n",
      "Fa    0.019178\n",
      "Ex    0.002055\n",
      "Po    0.000685\n",
      "Name: proportion, dtype: float64\n",
      "columns : Foundation has 6 values and they are as follows:\n",
      "Foundation\n",
      "PConc     0.443151\n",
      "CBlock    0.434247\n",
      "BrkTil    0.100000\n",
      "Slab      0.016438\n",
      "Stone     0.004110\n",
      "Wood      0.002055\n",
      "Name: proportion, dtype: float64\n",
      "columns : BsmtQual has 4 values and they are as follows:\n",
      "BsmtQual\n",
      "TA    0.456079\n",
      "Gd    0.434294\n",
      "Ex    0.085032\n",
      "Fa    0.024596\n",
      "Name: proportion, dtype: float64\n",
      "columns : BsmtCond has 4 values and they are as follows:\n",
      "BsmtCond\n",
      "TA    0.921293\n",
      "Gd    0.045678\n",
      "Fa    0.031623\n",
      "Po    0.001405\n",
      "Name: proportion, dtype: float64\n",
      "columns : BsmtExposure has 4 values and they are as follows:\n",
      "BsmtExposure\n",
      "No    0.670183\n",
      "Av    0.155415\n",
      "Gd    0.094233\n",
      "Mn    0.080169\n",
      "Name: proportion, dtype: float64\n",
      "columns : BsmtFinType1 has 6 values and they are as follows:\n",
      "BsmtFinType1\n",
      "Unf    0.302178\n",
      "GLQ    0.293746\n",
      "ALQ    0.154603\n",
      "BLQ    0.104006\n",
      "Rec    0.093465\n",
      "LwQ    0.052003\n",
      "Name: proportion, dtype: float64\n",
      "columns : BsmtFinType2 has 6 values and they are as follows:\n",
      "BsmtFinType2\n",
      "Unf    0.883263\n",
      "Rec    0.037975\n",
      "LwQ    0.032349\n",
      "BLQ    0.023207\n",
      "ALQ    0.013361\n",
      "GLQ    0.009845\n",
      "Name: proportion, dtype: float64\n",
      "columns : Heating has 6 values and they are as follows:\n",
      "Heating\n",
      "GasA     0.978082\n",
      "GasW     0.012329\n",
      "Grav     0.004795\n",
      "Wall     0.002740\n",
      "OthW     0.001370\n",
      "Floor    0.000685\n",
      "Name: proportion, dtype: float64\n",
      "columns : HeatingQC has 5 values and they are as follows:\n",
      "HeatingQC\n",
      "Ex    0.507534\n",
      "TA    0.293151\n",
      "Gd    0.165068\n",
      "Fa    0.033562\n",
      "Po    0.000685\n",
      "Name: proportion, dtype: float64\n",
      "columns : CentralAir has 2 values and they are as follows:\n",
      "CentralAir\n",
      "Y    0.934932\n",
      "N    0.065068\n",
      "Name: proportion, dtype: float64\n",
      "columns : Electrical has 5 values and they are as follows:\n",
      "Electrical\n",
      "SBrkr    0.914325\n",
      "FuseA    0.064428\n",
      "FuseF    0.018506\n",
      "FuseP    0.002056\n",
      "Mix      0.000685\n",
      "Name: proportion, dtype: float64\n",
      "columns : KitchenQual has 4 values and they are as follows:\n",
      "KitchenQual\n",
      "TA    0.503425\n",
      "Gd    0.401370\n",
      "Ex    0.068493\n",
      "Fa    0.026712\n",
      "Name: proportion, dtype: float64\n",
      "columns : Functional has 7 values and they are as follows:\n",
      "Functional\n",
      "Typ     0.931507\n",
      "Min2    0.023288\n",
      "Min1    0.021233\n",
      "Mod     0.010274\n",
      "Maj1    0.009589\n",
      "Maj2    0.003425\n",
      "Sev     0.000685\n",
      "Name: proportion, dtype: float64\n",
      "columns : FireplaceQu has 5 values and they are as follows:\n",
      "FireplaceQu\n",
      "Gd    0.493506\n",
      "TA    0.406494\n",
      "Fa    0.042857\n",
      "Ex    0.031169\n",
      "Po    0.025974\n",
      "Name: proportion, dtype: float64\n",
      "columns : GarageType has 6 values and they are as follows:\n",
      "GarageType\n",
      "Attchd     0.630892\n",
      "Detchd     0.280638\n",
      "BuiltIn    0.063814\n",
      "Basment    0.013778\n",
      "CarPort    0.006526\n",
      "2Types     0.004351\n",
      "Name: proportion, dtype: float64\n",
      "columns : GarageFinish has 3 values and they are as follows:\n",
      "GarageFinish\n",
      "Unf    0.438724\n",
      "RFn    0.306019\n",
      "Fin    0.255257\n",
      "Name: proportion, dtype: float64\n",
      "columns : GarageQual has 5 values and they are as follows:\n",
      "GarageQual\n",
      "TA    0.950689\n",
      "Fa    0.034808\n",
      "Gd    0.010152\n",
      "Ex    0.002175\n",
      "Po    0.002175\n",
      "Name: proportion, dtype: float64\n",
      "columns : GarageCond has 5 values and they are as follows:\n",
      "GarageCond\n",
      "TA    0.961566\n",
      "Fa    0.025381\n",
      "Gd    0.006526\n",
      "Po    0.005076\n",
      "Ex    0.001450\n",
      "Name: proportion, dtype: float64\n",
      "columns : PavedDrive has 3 values and they are as follows:\n",
      "PavedDrive\n",
      "Y    0.917808\n",
      "N    0.061644\n",
      "P    0.020548\n",
      "Name: proportion, dtype: float64\n",
      "columns : PoolQC has 3 values and they are as follows:\n",
      "PoolQC\n",
      "Gd    0.428571\n",
      "Ex    0.285714\n",
      "Fa    0.285714\n",
      "Name: proportion, dtype: float64\n",
      "columns : Fence has 4 values and they are as follows:\n",
      "Fence\n",
      "MnPrv    0.558719\n",
      "GdPrv    0.209964\n",
      "GdWo     0.192171\n",
      "MnWw     0.039146\n",
      "Name: proportion, dtype: float64\n",
      "columns : MiscFeature has 4 values and they are as follows:\n",
      "MiscFeature\n",
      "Shed    0.907407\n",
      "Gar2    0.037037\n",
      "Othr    0.037037\n",
      "TenC    0.018519\n",
      "Name: proportion, dtype: float64\n",
      "columns : SaleType has 9 values and they are as follows:\n",
      "SaleType\n",
      "WD       0.867808\n",
      "New      0.083562\n",
      "COD      0.029452\n",
      "ConLD    0.006164\n",
      "ConLI    0.003425\n",
      "ConLw    0.003425\n",
      "CWD      0.002740\n",
      "Oth      0.002055\n",
      "Con      0.001370\n",
      "Name: proportion, dtype: float64\n",
      "columns : SaleCondition has 6 values and they are as follows:\n",
      "SaleCondition\n",
      "Normal     0.820548\n",
      "Partial    0.085616\n",
      "Abnorml    0.069178\n",
      "Family     0.013699\n",
      "Alloca     0.008219\n",
      "AdjLand    0.002740\n",
      "Name: proportion, dtype: float64\n"
     ]
    }
   ],
   "source": [
    "for col in categorical_data.columns:\n",
    "    print(f\"columns : {col} has {categorical_data[col].nunique()} values and they are as follows:\")\n",
    "    print(categorical_data[col].value_counts(normalize=True))"
   ],
   "metadata": {
    "collapsed": false,
    "ExecuteTime": {
     "end_time": "2023-06-27T23:33:58.664533Z",
     "start_time": "2023-06-27T23:33:58.612226Z"
    }
   }
  },
  {
   "cell_type": "code",
   "execution_count": 11,
   "outputs": [
    {
     "data": {
      "text/plain": "                count           mean           std      min        25%  \\\nId             1460.0     730.500000    421.610009      1.0     365.75   \nMSSubClass     1460.0      56.897260     42.300571     20.0      20.00   \nLotFrontage    1201.0      70.049958     24.284752     21.0      59.00   \nLotArea        1460.0   10516.828082   9981.264932   1300.0    7553.50   \nOverallQual    1460.0       6.099315      1.382997      1.0       5.00   \nOverallCond    1460.0       5.575342      1.112799      1.0       5.00   \nYearBuilt      1460.0    1971.267808     30.202904   1872.0    1954.00   \nYearRemodAdd   1460.0    1984.865753     20.645407   1950.0    1967.00   \nMasVnrArea     1452.0     103.685262    181.066207      0.0       0.00   \nBsmtFinSF1     1460.0     443.639726    456.098091      0.0       0.00   \nBsmtFinSF2     1460.0      46.549315    161.319273      0.0       0.00   \nBsmtUnfSF      1460.0     567.240411    441.866955      0.0     223.00   \nTotalBsmtSF    1460.0    1057.429452    438.705324      0.0     795.75   \n1stFlrSF       1460.0    1162.626712    386.587738    334.0     882.00   \n2ndFlrSF       1460.0     346.992466    436.528436      0.0       0.00   \nLowQualFinSF   1460.0       5.844521     48.623081      0.0       0.00   \nGrLivArea      1460.0    1515.463699    525.480383    334.0    1129.50   \nBsmtFullBath   1460.0       0.425342      0.518911      0.0       0.00   \nBsmtHalfBath   1460.0       0.057534      0.238753      0.0       0.00   \nFullBath       1460.0       1.565068      0.550916      0.0       1.00   \nHalfBath       1460.0       0.382877      0.502885      0.0       0.00   \nBedroomAbvGr   1460.0       2.866438      0.815778      0.0       2.00   \nKitchenAbvGr   1460.0       1.046575      0.220338      0.0       1.00   \nTotRmsAbvGrd   1460.0       6.517808      1.625393      2.0       5.00   \nFireplaces     1460.0       0.613014      0.644666      0.0       0.00   \nGarageYrBlt    1379.0    1978.506164     24.689725   1900.0    1961.00   \nGarageCars     1460.0       1.767123      0.747315      0.0       1.00   \nGarageArea     1460.0     472.980137    213.804841      0.0     334.50   \nWoodDeckSF     1460.0      94.244521    125.338794      0.0       0.00   \nOpenPorchSF    1460.0      46.660274     66.256028      0.0       0.00   \nEnclosedPorch  1460.0      21.954110     61.119149      0.0       0.00   \n3SsnPorch      1460.0       3.409589     29.317331      0.0       0.00   \nScreenPorch    1460.0      15.060959     55.757415      0.0       0.00   \nPoolArea       1460.0       2.758904     40.177307      0.0       0.00   \nMiscVal        1460.0      43.489041    496.123024      0.0       0.00   \nMoSold         1460.0       6.321918      2.703626      1.0       5.00   \nYrSold         1460.0    2007.815753      1.328095   2006.0    2007.00   \nSalePrice      1460.0  180921.195890  79442.502883  34900.0  129975.00   \n\n                    50%        75%       max  \nId                730.5    1095.25    1460.0  \nMSSubClass         50.0      70.00     190.0  \nLotFrontage        69.0      80.00     313.0  \nLotArea          9478.5   11601.50  215245.0  \nOverallQual         6.0       7.00      10.0  \nOverallCond         5.0       6.00       9.0  \nYearBuilt        1973.0    2000.00    2010.0  \nYearRemodAdd     1994.0    2004.00    2010.0  \nMasVnrArea          0.0     166.00    1600.0  \nBsmtFinSF1        383.5     712.25    5644.0  \nBsmtFinSF2          0.0       0.00    1474.0  \nBsmtUnfSF         477.5     808.00    2336.0  \nTotalBsmtSF       991.5    1298.25    6110.0  \n1stFlrSF         1087.0    1391.25    4692.0  \n2ndFlrSF            0.0     728.00    2065.0  \nLowQualFinSF        0.0       0.00     572.0  \nGrLivArea        1464.0    1776.75    5642.0  \nBsmtFullBath        0.0       1.00       3.0  \nBsmtHalfBath        0.0       0.00       2.0  \nFullBath            2.0       2.00       3.0  \nHalfBath            0.0       1.00       2.0  \nBedroomAbvGr        3.0       3.00       8.0  \nKitchenAbvGr        1.0       1.00       3.0  \nTotRmsAbvGrd        6.0       7.00      14.0  \nFireplaces          1.0       1.00       3.0  \nGarageYrBlt      1980.0    2002.00    2010.0  \nGarageCars          2.0       2.00       4.0  \nGarageArea        480.0     576.00    1418.0  \nWoodDeckSF          0.0     168.00     857.0  \nOpenPorchSF        25.0      68.00     547.0  \nEnclosedPorch       0.0       0.00     552.0  \n3SsnPorch           0.0       0.00     508.0  \nScreenPorch         0.0       0.00     480.0  \nPoolArea            0.0       0.00     738.0  \nMiscVal             0.0       0.00   15500.0  \nMoSold              6.0       8.00      12.0  \nYrSold           2008.0    2009.00    2010.0  \nSalePrice      163000.0  214000.00  755000.0  ",
      "text/html": "<div>\n<style scoped>\n    .dataframe tbody tr th:only-of-type {\n        vertical-align: middle;\n    }\n\n    .dataframe tbody tr th {\n        vertical-align: top;\n    }\n\n    .dataframe thead th {\n        text-align: right;\n    }\n</style>\n<table border=\"1\" class=\"dataframe\">\n  <thead>\n    <tr style=\"text-align: right;\">\n      <th></th>\n      <th>count</th>\n      <th>mean</th>\n      <th>std</th>\n      <th>min</th>\n      <th>25%</th>\n      <th>50%</th>\n      <th>75%</th>\n      <th>max</th>\n    </tr>\n  </thead>\n  <tbody>\n    <tr>\n      <th>Id</th>\n      <td>1460.0</td>\n      <td>730.500000</td>\n      <td>421.610009</td>\n      <td>1.0</td>\n      <td>365.75</td>\n      <td>730.5</td>\n      <td>1095.25</td>\n      <td>1460.0</td>\n    </tr>\n    <tr>\n      <th>MSSubClass</th>\n      <td>1460.0</td>\n      <td>56.897260</td>\n      <td>42.300571</td>\n      <td>20.0</td>\n      <td>20.00</td>\n      <td>50.0</td>\n      <td>70.00</td>\n      <td>190.0</td>\n    </tr>\n    <tr>\n      <th>LotFrontage</th>\n      <td>1201.0</td>\n      <td>70.049958</td>\n      <td>24.284752</td>\n      <td>21.0</td>\n      <td>59.00</td>\n      <td>69.0</td>\n      <td>80.00</td>\n      <td>313.0</td>\n    </tr>\n    <tr>\n      <th>LotArea</th>\n      <td>1460.0</td>\n      <td>10516.828082</td>\n      <td>9981.264932</td>\n      <td>1300.0</td>\n      <td>7553.50</td>\n      <td>9478.5</td>\n      <td>11601.50</td>\n      <td>215245.0</td>\n    </tr>\n    <tr>\n      <th>OverallQual</th>\n      <td>1460.0</td>\n      <td>6.099315</td>\n      <td>1.382997</td>\n      <td>1.0</td>\n      <td>5.00</td>\n      <td>6.0</td>\n      <td>7.00</td>\n      <td>10.0</td>\n    </tr>\n    <tr>\n      <th>OverallCond</th>\n      <td>1460.0</td>\n      <td>5.575342</td>\n      <td>1.112799</td>\n      <td>1.0</td>\n      <td>5.00</td>\n      <td>5.0</td>\n      <td>6.00</td>\n      <td>9.0</td>\n    </tr>\n    <tr>\n      <th>YearBuilt</th>\n      <td>1460.0</td>\n      <td>1971.267808</td>\n      <td>30.202904</td>\n      <td>1872.0</td>\n      <td>1954.00</td>\n      <td>1973.0</td>\n      <td>2000.00</td>\n      <td>2010.0</td>\n    </tr>\n    <tr>\n      <th>YearRemodAdd</th>\n      <td>1460.0</td>\n      <td>1984.865753</td>\n      <td>20.645407</td>\n      <td>1950.0</td>\n      <td>1967.00</td>\n      <td>1994.0</td>\n      <td>2004.00</td>\n      <td>2010.0</td>\n    </tr>\n    <tr>\n      <th>MasVnrArea</th>\n      <td>1452.0</td>\n      <td>103.685262</td>\n      <td>181.066207</td>\n      <td>0.0</td>\n      <td>0.00</td>\n      <td>0.0</td>\n      <td>166.00</td>\n      <td>1600.0</td>\n    </tr>\n    <tr>\n      <th>BsmtFinSF1</th>\n      <td>1460.0</td>\n      <td>443.639726</td>\n      <td>456.098091</td>\n      <td>0.0</td>\n      <td>0.00</td>\n      <td>383.5</td>\n      <td>712.25</td>\n      <td>5644.0</td>\n    </tr>\n    <tr>\n      <th>BsmtFinSF2</th>\n      <td>1460.0</td>\n      <td>46.549315</td>\n      <td>161.319273</td>\n      <td>0.0</td>\n      <td>0.00</td>\n      <td>0.0</td>\n      <td>0.00</td>\n      <td>1474.0</td>\n    </tr>\n    <tr>\n      <th>BsmtUnfSF</th>\n      <td>1460.0</td>\n      <td>567.240411</td>\n      <td>441.866955</td>\n      <td>0.0</td>\n      <td>223.00</td>\n      <td>477.5</td>\n      <td>808.00</td>\n      <td>2336.0</td>\n    </tr>\n    <tr>\n      <th>TotalBsmtSF</th>\n      <td>1460.0</td>\n      <td>1057.429452</td>\n      <td>438.705324</td>\n      <td>0.0</td>\n      <td>795.75</td>\n      <td>991.5</td>\n      <td>1298.25</td>\n      <td>6110.0</td>\n    </tr>\n    <tr>\n      <th>1stFlrSF</th>\n      <td>1460.0</td>\n      <td>1162.626712</td>\n      <td>386.587738</td>\n      <td>334.0</td>\n      <td>882.00</td>\n      <td>1087.0</td>\n      <td>1391.25</td>\n      <td>4692.0</td>\n    </tr>\n    <tr>\n      <th>2ndFlrSF</th>\n      <td>1460.0</td>\n      <td>346.992466</td>\n      <td>436.528436</td>\n      <td>0.0</td>\n      <td>0.00</td>\n      <td>0.0</td>\n      <td>728.00</td>\n      <td>2065.0</td>\n    </tr>\n    <tr>\n      <th>LowQualFinSF</th>\n      <td>1460.0</td>\n      <td>5.844521</td>\n      <td>48.623081</td>\n      <td>0.0</td>\n      <td>0.00</td>\n      <td>0.0</td>\n      <td>0.00</td>\n      <td>572.0</td>\n    </tr>\n    <tr>\n      <th>GrLivArea</th>\n      <td>1460.0</td>\n      <td>1515.463699</td>\n      <td>525.480383</td>\n      <td>334.0</td>\n      <td>1129.50</td>\n      <td>1464.0</td>\n      <td>1776.75</td>\n      <td>5642.0</td>\n    </tr>\n    <tr>\n      <th>BsmtFullBath</th>\n      <td>1460.0</td>\n      <td>0.425342</td>\n      <td>0.518911</td>\n      <td>0.0</td>\n      <td>0.00</td>\n      <td>0.0</td>\n      <td>1.00</td>\n      <td>3.0</td>\n    </tr>\n    <tr>\n      <th>BsmtHalfBath</th>\n      <td>1460.0</td>\n      <td>0.057534</td>\n      <td>0.238753</td>\n      <td>0.0</td>\n      <td>0.00</td>\n      <td>0.0</td>\n      <td>0.00</td>\n      <td>2.0</td>\n    </tr>\n    <tr>\n      <th>FullBath</th>\n      <td>1460.0</td>\n      <td>1.565068</td>\n      <td>0.550916</td>\n      <td>0.0</td>\n      <td>1.00</td>\n      <td>2.0</td>\n      <td>2.00</td>\n      <td>3.0</td>\n    </tr>\n    <tr>\n      <th>HalfBath</th>\n      <td>1460.0</td>\n      <td>0.382877</td>\n      <td>0.502885</td>\n      <td>0.0</td>\n      <td>0.00</td>\n      <td>0.0</td>\n      <td>1.00</td>\n      <td>2.0</td>\n    </tr>\n    <tr>\n      <th>BedroomAbvGr</th>\n      <td>1460.0</td>\n      <td>2.866438</td>\n      <td>0.815778</td>\n      <td>0.0</td>\n      <td>2.00</td>\n      <td>3.0</td>\n      <td>3.00</td>\n      <td>8.0</td>\n    </tr>\n    <tr>\n      <th>KitchenAbvGr</th>\n      <td>1460.0</td>\n      <td>1.046575</td>\n      <td>0.220338</td>\n      <td>0.0</td>\n      <td>1.00</td>\n      <td>1.0</td>\n      <td>1.00</td>\n      <td>3.0</td>\n    </tr>\n    <tr>\n      <th>TotRmsAbvGrd</th>\n      <td>1460.0</td>\n      <td>6.517808</td>\n      <td>1.625393</td>\n      <td>2.0</td>\n      <td>5.00</td>\n      <td>6.0</td>\n      <td>7.00</td>\n      <td>14.0</td>\n    </tr>\n    <tr>\n      <th>Fireplaces</th>\n      <td>1460.0</td>\n      <td>0.613014</td>\n      <td>0.644666</td>\n      <td>0.0</td>\n      <td>0.00</td>\n      <td>1.0</td>\n      <td>1.00</td>\n      <td>3.0</td>\n    </tr>\n    <tr>\n      <th>GarageYrBlt</th>\n      <td>1379.0</td>\n      <td>1978.506164</td>\n      <td>24.689725</td>\n      <td>1900.0</td>\n      <td>1961.00</td>\n      <td>1980.0</td>\n      <td>2002.00</td>\n      <td>2010.0</td>\n    </tr>\n    <tr>\n      <th>GarageCars</th>\n      <td>1460.0</td>\n      <td>1.767123</td>\n      <td>0.747315</td>\n      <td>0.0</td>\n      <td>1.00</td>\n      <td>2.0</td>\n      <td>2.00</td>\n      <td>4.0</td>\n    </tr>\n    <tr>\n      <th>GarageArea</th>\n      <td>1460.0</td>\n      <td>472.980137</td>\n      <td>213.804841</td>\n      <td>0.0</td>\n      <td>334.50</td>\n      <td>480.0</td>\n      <td>576.00</td>\n      <td>1418.0</td>\n    </tr>\n    <tr>\n      <th>WoodDeckSF</th>\n      <td>1460.0</td>\n      <td>94.244521</td>\n      <td>125.338794</td>\n      <td>0.0</td>\n      <td>0.00</td>\n      <td>0.0</td>\n      <td>168.00</td>\n      <td>857.0</td>\n    </tr>\n    <tr>\n      <th>OpenPorchSF</th>\n      <td>1460.0</td>\n      <td>46.660274</td>\n      <td>66.256028</td>\n      <td>0.0</td>\n      <td>0.00</td>\n      <td>25.0</td>\n      <td>68.00</td>\n      <td>547.0</td>\n    </tr>\n    <tr>\n      <th>EnclosedPorch</th>\n      <td>1460.0</td>\n      <td>21.954110</td>\n      <td>61.119149</td>\n      <td>0.0</td>\n      <td>0.00</td>\n      <td>0.0</td>\n      <td>0.00</td>\n      <td>552.0</td>\n    </tr>\n    <tr>\n      <th>3SsnPorch</th>\n      <td>1460.0</td>\n      <td>3.409589</td>\n      <td>29.317331</td>\n      <td>0.0</td>\n      <td>0.00</td>\n      <td>0.0</td>\n      <td>0.00</td>\n      <td>508.0</td>\n    </tr>\n    <tr>\n      <th>ScreenPorch</th>\n      <td>1460.0</td>\n      <td>15.060959</td>\n      <td>55.757415</td>\n      <td>0.0</td>\n      <td>0.00</td>\n      <td>0.0</td>\n      <td>0.00</td>\n      <td>480.0</td>\n    </tr>\n    <tr>\n      <th>PoolArea</th>\n      <td>1460.0</td>\n      <td>2.758904</td>\n      <td>40.177307</td>\n      <td>0.0</td>\n      <td>0.00</td>\n      <td>0.0</td>\n      <td>0.00</td>\n      <td>738.0</td>\n    </tr>\n    <tr>\n      <th>MiscVal</th>\n      <td>1460.0</td>\n      <td>43.489041</td>\n      <td>496.123024</td>\n      <td>0.0</td>\n      <td>0.00</td>\n      <td>0.0</td>\n      <td>0.00</td>\n      <td>15500.0</td>\n    </tr>\n    <tr>\n      <th>MoSold</th>\n      <td>1460.0</td>\n      <td>6.321918</td>\n      <td>2.703626</td>\n      <td>1.0</td>\n      <td>5.00</td>\n      <td>6.0</td>\n      <td>8.00</td>\n      <td>12.0</td>\n    </tr>\n    <tr>\n      <th>YrSold</th>\n      <td>1460.0</td>\n      <td>2007.815753</td>\n      <td>1.328095</td>\n      <td>2006.0</td>\n      <td>2007.00</td>\n      <td>2008.0</td>\n      <td>2009.00</td>\n      <td>2010.0</td>\n    </tr>\n    <tr>\n      <th>SalePrice</th>\n      <td>1460.0</td>\n      <td>180921.195890</td>\n      <td>79442.502883</td>\n      <td>34900.0</td>\n      <td>129975.00</td>\n      <td>163000.0</td>\n      <td>214000.00</td>\n      <td>755000.0</td>\n    </tr>\n  </tbody>\n</table>\n</div>"
     },
     "execution_count": 11,
     "metadata": {},
     "output_type": "execute_result"
    }
   ],
   "source": [
    "numerical_data.describe().T"
   ],
   "metadata": {
    "collapsed": false,
    "ExecuteTime": {
     "end_time": "2023-06-27T23:33:59.125151Z",
     "start_time": "2023-06-27T23:33:59.084950Z"
    }
   }
  },
  {
   "cell_type": "code",
   "execution_count": 12,
   "outputs": [
    {
     "data": {
      "text/plain": "                count unique     top  freq          mean           std  \\\nId             1460.0    NaN     NaN   NaN         730.5    421.610009   \nMSSubClass     1460.0    NaN     NaN   NaN      56.89726     42.300571   \nMSZoning         1460      5      RL  1151           NaN           NaN   \nLotFrontage    1201.0    NaN     NaN   NaN     70.049958     24.284752   \nLotArea        1460.0    NaN     NaN   NaN  10516.828082   9981.264932   \n...               ...    ...     ...   ...           ...           ...   \nMoSold         1460.0    NaN     NaN   NaN      6.321918      2.703626   \nYrSold         1460.0    NaN     NaN   NaN   2007.815753      1.328095   \nSaleType         1460      9      WD  1267           NaN           NaN   \nSaleCondition    1460      6  Normal  1198           NaN           NaN   \nSalePrice      1460.0    NaN     NaN   NaN  180921.19589  79442.502883   \n\n                   min       25%       50%       75%       max  \nId                 1.0    365.75     730.5   1095.25    1460.0  \nMSSubClass        20.0      20.0      50.0      70.0     190.0  \nMSZoning           NaN       NaN       NaN       NaN       NaN  \nLotFrontage       21.0      59.0      69.0      80.0     313.0  \nLotArea         1300.0    7553.5    9478.5   11601.5  215245.0  \n...                ...       ...       ...       ...       ...  \nMoSold             1.0       5.0       6.0       8.0      12.0  \nYrSold          2006.0    2007.0    2008.0    2009.0    2010.0  \nSaleType           NaN       NaN       NaN       NaN       NaN  \nSaleCondition      NaN       NaN       NaN       NaN       NaN  \nSalePrice      34900.0  129975.0  163000.0  214000.0  755000.0  \n\n[81 rows x 11 columns]",
      "text/html": "<div>\n<style scoped>\n    .dataframe tbody tr th:only-of-type {\n        vertical-align: middle;\n    }\n\n    .dataframe tbody tr th {\n        vertical-align: top;\n    }\n\n    .dataframe thead th {\n        text-align: right;\n    }\n</style>\n<table border=\"1\" class=\"dataframe\">\n  <thead>\n    <tr style=\"text-align: right;\">\n      <th></th>\n      <th>count</th>\n      <th>unique</th>\n      <th>top</th>\n      <th>freq</th>\n      <th>mean</th>\n      <th>std</th>\n      <th>min</th>\n      <th>25%</th>\n      <th>50%</th>\n      <th>75%</th>\n      <th>max</th>\n    </tr>\n  </thead>\n  <tbody>\n    <tr>\n      <th>Id</th>\n      <td>1460.0</td>\n      <td>NaN</td>\n      <td>NaN</td>\n      <td>NaN</td>\n      <td>730.5</td>\n      <td>421.610009</td>\n      <td>1.0</td>\n      <td>365.75</td>\n      <td>730.5</td>\n      <td>1095.25</td>\n      <td>1460.0</td>\n    </tr>\n    <tr>\n      <th>MSSubClass</th>\n      <td>1460.0</td>\n      <td>NaN</td>\n      <td>NaN</td>\n      <td>NaN</td>\n      <td>56.89726</td>\n      <td>42.300571</td>\n      <td>20.0</td>\n      <td>20.0</td>\n      <td>50.0</td>\n      <td>70.0</td>\n      <td>190.0</td>\n    </tr>\n    <tr>\n      <th>MSZoning</th>\n      <td>1460</td>\n      <td>5</td>\n      <td>RL</td>\n      <td>1151</td>\n      <td>NaN</td>\n      <td>NaN</td>\n      <td>NaN</td>\n      <td>NaN</td>\n      <td>NaN</td>\n      <td>NaN</td>\n      <td>NaN</td>\n    </tr>\n    <tr>\n      <th>LotFrontage</th>\n      <td>1201.0</td>\n      <td>NaN</td>\n      <td>NaN</td>\n      <td>NaN</td>\n      <td>70.049958</td>\n      <td>24.284752</td>\n      <td>21.0</td>\n      <td>59.0</td>\n      <td>69.0</td>\n      <td>80.0</td>\n      <td>313.0</td>\n    </tr>\n    <tr>\n      <th>LotArea</th>\n      <td>1460.0</td>\n      <td>NaN</td>\n      <td>NaN</td>\n      <td>NaN</td>\n      <td>10516.828082</td>\n      <td>9981.264932</td>\n      <td>1300.0</td>\n      <td>7553.5</td>\n      <td>9478.5</td>\n      <td>11601.5</td>\n      <td>215245.0</td>\n    </tr>\n    <tr>\n      <th>...</th>\n      <td>...</td>\n      <td>...</td>\n      <td>...</td>\n      <td>...</td>\n      <td>...</td>\n      <td>...</td>\n      <td>...</td>\n      <td>...</td>\n      <td>...</td>\n      <td>...</td>\n      <td>...</td>\n    </tr>\n    <tr>\n      <th>MoSold</th>\n      <td>1460.0</td>\n      <td>NaN</td>\n      <td>NaN</td>\n      <td>NaN</td>\n      <td>6.321918</td>\n      <td>2.703626</td>\n      <td>1.0</td>\n      <td>5.0</td>\n      <td>6.0</td>\n      <td>8.0</td>\n      <td>12.0</td>\n    </tr>\n    <tr>\n      <th>YrSold</th>\n      <td>1460.0</td>\n      <td>NaN</td>\n      <td>NaN</td>\n      <td>NaN</td>\n      <td>2007.815753</td>\n      <td>1.328095</td>\n      <td>2006.0</td>\n      <td>2007.0</td>\n      <td>2008.0</td>\n      <td>2009.0</td>\n      <td>2010.0</td>\n    </tr>\n    <tr>\n      <th>SaleType</th>\n      <td>1460</td>\n      <td>9</td>\n      <td>WD</td>\n      <td>1267</td>\n      <td>NaN</td>\n      <td>NaN</td>\n      <td>NaN</td>\n      <td>NaN</td>\n      <td>NaN</td>\n      <td>NaN</td>\n      <td>NaN</td>\n    </tr>\n    <tr>\n      <th>SaleCondition</th>\n      <td>1460</td>\n      <td>6</td>\n      <td>Normal</td>\n      <td>1198</td>\n      <td>NaN</td>\n      <td>NaN</td>\n      <td>NaN</td>\n      <td>NaN</td>\n      <td>NaN</td>\n      <td>NaN</td>\n      <td>NaN</td>\n    </tr>\n    <tr>\n      <th>SalePrice</th>\n      <td>1460.0</td>\n      <td>NaN</td>\n      <td>NaN</td>\n      <td>NaN</td>\n      <td>180921.19589</td>\n      <td>79442.502883</td>\n      <td>34900.0</td>\n      <td>129975.0</td>\n      <td>163000.0</td>\n      <td>214000.0</td>\n      <td>755000.0</td>\n    </tr>\n  </tbody>\n</table>\n<p>81 rows × 11 columns</p>\n</div>"
     },
     "execution_count": 12,
     "metadata": {},
     "output_type": "execute_result"
    }
   ],
   "source": [
    "housing_data.describe(include=\"all\").T"
   ],
   "metadata": {
    "collapsed": false,
    "ExecuteTime": {
     "end_time": "2023-06-27T23:33:59.721626Z",
     "start_time": "2023-06-27T23:33:59.681084Z"
    }
   }
  },
  {
   "cell_type": "code",
   "execution_count": 14,
   "outputs": [
    {
     "data": {
      "text/plain": "Id                 0\nMSSubClass         0\nLotFrontage      259\nLotArea            0\nOverallQual        0\nOverallCond        0\nYearBuilt          0\nYearRemodAdd       0\nMasVnrArea         8\nBsmtFinSF1         0\nBsmtFinSF2         0\nBsmtUnfSF          0\nTotalBsmtSF        0\n1stFlrSF           0\n2ndFlrSF           0\nLowQualFinSF       0\nGrLivArea          0\nBsmtFullBath       0\nBsmtHalfBath       0\nFullBath           0\nHalfBath           0\nBedroomAbvGr       0\nKitchenAbvGr       0\nTotRmsAbvGrd       0\nFireplaces         0\nGarageYrBlt       81\nGarageCars         0\nGarageArea         0\nWoodDeckSF         0\nOpenPorchSF        0\nEnclosedPorch      0\n3SsnPorch          0\nScreenPorch        0\nPoolArea           0\nMiscVal            0\nMoSold             0\nYrSold             0\nSalePrice          0\ndtype: int64"
     },
     "execution_count": 14,
     "metadata": {},
     "output_type": "execute_result"
    }
   ],
   "source": [
    "numerical_data.isnull().sum()"
   ],
   "metadata": {
    "collapsed": false,
    "ExecuteTime": {
     "end_time": "2023-06-27T23:34:39.197763Z",
     "start_time": "2023-06-27T23:34:39.192723Z"
    }
   }
  },
  {
   "cell_type": "code",
   "execution_count": 15,
   "outputs": [
    {
     "data": {
      "text/plain": "MSZoning            0\nStreet              0\nAlley            1369\nLotShape            0\nLandContour         0\nUtilities           0\nLotConfig           0\nLandSlope           0\nNeighborhood        0\nCondition1          0\nCondition2          0\nBldgType            0\nHouseStyle          0\nRoofStyle           0\nRoofMatl            0\nExterior1st         0\nExterior2nd         0\nMasVnrType        872\nExterQual           0\nExterCond           0\nFoundation          0\nBsmtQual           37\nBsmtCond           37\nBsmtExposure       38\nBsmtFinType1       37\nBsmtFinType2       38\nHeating             0\nHeatingQC           0\nCentralAir          0\nElectrical          1\nKitchenQual         0\nFunctional          0\nFireplaceQu       690\nGarageType         81\nGarageFinish       81\nGarageQual         81\nGarageCond         81\nPavedDrive          0\nPoolQC           1453\nFence            1179\nMiscFeature      1406\nSaleType            0\nSaleCondition       0\ndtype: int64"
     },
     "execution_count": 15,
     "metadata": {},
     "output_type": "execute_result"
    }
   ],
   "source": [
    "categorical_data.isnull().sum()"
   ],
   "metadata": {
    "collapsed": false,
    "ExecuteTime": {
     "end_time": "2023-06-27T23:34:48.964651Z",
     "start_time": "2023-06-27T23:34:48.959833Z"
    }
   }
  },
  {
   "cell_type": "code",
   "execution_count": 18,
   "outputs": [
    {
     "data": {
      "text/plain": "   LotArea  LotFrontage\n0     8450         65.0\n1     9600         80.0\n2    11250         68.0\n3     9550         60.0\n4    14260         84.0",
      "text/html": "<div>\n<style scoped>\n    .dataframe tbody tr th:only-of-type {\n        vertical-align: middle;\n    }\n\n    .dataframe tbody tr th {\n        vertical-align: top;\n    }\n\n    .dataframe thead th {\n        text-align: right;\n    }\n</style>\n<table border=\"1\" class=\"dataframe\">\n  <thead>\n    <tr style=\"text-align: right;\">\n      <th></th>\n      <th>LotArea</th>\n      <th>LotFrontage</th>\n    </tr>\n  </thead>\n  <tbody>\n    <tr>\n      <th>0</th>\n      <td>8450</td>\n      <td>65.0</td>\n    </tr>\n    <tr>\n      <th>1</th>\n      <td>9600</td>\n      <td>80.0</td>\n    </tr>\n    <tr>\n      <th>2</th>\n      <td>11250</td>\n      <td>68.0</td>\n    </tr>\n    <tr>\n      <th>3</th>\n      <td>9550</td>\n      <td>60.0</td>\n    </tr>\n    <tr>\n      <th>4</th>\n      <td>14260</td>\n      <td>84.0</td>\n    </tr>\n  </tbody>\n</table>\n</div>"
     },
     "execution_count": 18,
     "metadata": {},
     "output_type": "execute_result"
    }
   ],
   "source": [
    "numerical_data[['LotArea', 'LotFrontage']].head()"
   ],
   "metadata": {
    "collapsed": false,
    "ExecuteTime": {
     "end_time": "2023-06-27T23:36:09.289280Z",
     "start_time": "2023-06-27T23:36:09.283040Z"
    }
   }
  },
  {
   "cell_type": "code",
   "execution_count": 25,
   "outputs": [
    {
     "data": {
      "text/plain": "0       130.0\n1       120.0\n2       165.0\n3       159.0\n4       169.0\n        ...  \n1455    127.0\n1456    155.0\n1457    137.0\n1458    142.0\n1459    132.0\nLength: 1460, dtype: float64"
     },
     "execution_count": 25,
     "metadata": {},
     "output_type": "execute_result"
    }
   ],
   "source": [
    "numerical_data['LotArea']//numerical_data['LotFrontage']"
   ],
   "metadata": {
    "collapsed": false,
    "ExecuteTime": {
     "end_time": "2023-06-27T23:40:37.030945Z",
     "start_time": "2023-06-27T23:40:37.027664Z"
    }
   }
  },
  {
   "cell_type": "code",
   "execution_count": 23,
   "outputs": [
    {
     "data": {
      "text/plain": "<Axes: ylabel='Count'>"
     },
     "execution_count": 23,
     "metadata": {},
     "output_type": "execute_result"
    },
    {
     "data": {
      "text/plain": "<Figure size 640x480 with 1 Axes>",
      "image/png": "[encoded data removed]"
     },
     "metadata": {},
     "output_type": "display_data"
    }
   ],
   "source": [
    "sns.histplot(data=numerical_data['LotArea']//numerical_data['LotFrontage'])"
   ],
   "metadata": {
    "collapsed": false,
    "ExecuteTime": {
     "end_time": "2023-06-27T23:39:35.789961Z",
     "start_time": "2023-06-27T23:39:35.572721Z"
    }
   }
  },
  {
   "cell_type": "code",
   "execution_count": null,
   "outputs": [],
   "source": [],
   "metadata": {
    "collapsed": false
   }
  }
 ],
 "metadata": {
  "kernelspec": {
   "display_name": "Python 3 (ipykernel)",
   "language": "python",
   "name": "python3"
  },
  "language_info": {
   "codemirror_mode": {
    "name": "ipython",
    "version": 3
   },
   "file_extension": ".py",
   "mimetype": "text/x-python",
   "name": "python",
   "nbconvert_exporter": "python",
   "pygments_lexer": "ipython3",
   "version": "3.10.11"
  }
 },
 "nbformat": 4,
 "nbformat_minor": 5
}
